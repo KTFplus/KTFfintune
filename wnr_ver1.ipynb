{
 "cells": [
  {
   "cell_type": "code",
   "execution_count": 10,
   "id": "bd64958d-dfc2-4c13-ba6a-24cf3cc67840",
   "metadata": {},
   "outputs": [],
   "source": [
    "from pathlib import Path\n",
    "import json\n",
    "\n",
    "def create_metadata(data_root, split):\n",
    "    metadata = []\n",
    "    \n",
    "    audio_dir = Path(data_root) / f\"{split}_audio\"\n",
    "    json_dir = Path(data_root) / f\"{split}_json\"\n",
    "\n",
    "    for audio_file in audio_dir.glob(\"*.wav\"):\n",
    "        json_path = json_dir / f\"{audio_file.stem}.json\"\n",
    "        \n",
    "        if json_path.exists():\n",
    "            metadata.append({\n",
    "                \"audio_path\": str(audio_file.relative_to(data_root)),\n",
    "                \"json_path\": str(json_path.relative_to(data_root))\n",
    "            })\n",
    "    \n",
    "    # metadata.jsonl 저장\n",
    "    with open(f\"{data_root}/{split}_metadata.jsonl\", \"w\") as f:\n",
    "        for item in metadata:\n",
    "            f.write(json.dumps(item) + \"\\n\")\n",
    "\n",
    "# 실행 예시\n",
    "data_root = \"data\"\n",
    "create_metadata(data_root, \"train\")\n",
    "create_metadata(data_root, \"val\")\n"
   ]
  },
  {
   "cell_type": "code",
   "execution_count": 29,
   "id": "d40884ba-4c27-457e-8c3e-b1c96370623a",
   "metadata": {},
   "outputs": [
    {
     "name": "stderr",
     "output_type": "stream",
     "text": [
      "Map: 100%|███████████████████████████████████████████████████████████████████████████████████████████████████████████████████████████| 1430/1430 [00:13<00:00, 106.38 examples/s]\n",
      "Map: 100%|███████████████████████████████████████████████████████████████████████████████████████████████████████████████████████████| 1402/1402 [00:10<00:00, 136.44 examples/s]\n"
     ]
    }
   ],
   "source": [
    "import json\n",
    "from datasets import load_dataset, Audio\n",
    "\n",
    "def preprocess(example):\n",
    "    # 절대 경로 생성\n",
    "    base_dir = \"data\"  # 데이터 루트 디렉토리 지정\n",
    "    audio_path = os.path.join(base_dir, example[\"audio_path\"])\n",
    "    json_path = os.path.join(base_dir, example[\"json_path\"])\n",
    "    \n",
    "    # 오디오 로드 (16kHz)\n",
    "    example[\"audio\"] = Audio(sampling_rate=16000).decode_example({\"path\": audio_path, \"bytes\": None})\n",
    "    \n",
    "    # JSON 로드 및 텍스트 추출\n",
    "    with open(json_path, \"r\", encoding=\"utf-8\") as f:\n",
    "        metadata = json.load(f)\n",
    "        \n",
    "    # 실제 학습용 텍스트(정답) 필드 선택\n",
    "    example[\"text\"] = metadata[\"transcription\"][\"AnswerLabelText\"]\n",
    "    return example\n",
    "\n",
    "dataset = load_dataset(\n",
    "    \"json\",\n",
    "    data_files={\n",
    "        \"train\": \"data/train_metadata.jsonl\",\n",
    "        \"validation\": \"data/val_metadata.jsonl\"\n",
    "    }\n",
    ")\n",
    "# 전처리 적용\n",
    "dataset = dataset.map(preprocess)\n"
   ]
  },
  {
   "cell_type": "code",
   "execution_count": 31,
   "id": "ab58ff77-8e9b-4b90-93cd-9f2ffaf20864",
   "metadata": {},
   "outputs": [],
   "source": [
    "\n",
    "import torch\n",
    "from transformers import AutoModelForSpeechSeq2Seq, AutoProcessor\n",
    "\n",
    "model_id = \"ghost613/whisper-large-v3-turbo-korean\"\n",
    "device = \"mps\" if torch.backends.mps.is_available() else \"cuda\" if torch.cuda.is_available() else \"cpu\"\n",
    "torch_dtype = torch.float16 if torch.cuda.is_available() else torch.float32\n",
    "\n",
    "model = AutoModelForSpeechSeq2Seq.from_pretrained(\n",
    "    model_id,\n",
    "    torch_dtype=torch_dtype,\n",
    "    low_cpu_mem_usage=True,\n",
    "    use_safetensors=True\n",
    ").to(device)\n",
    "\n",
    "processor = AutoProcessor.from_pretrained(model_id)\n"
   ]
  },
  {
   "cell_type": "code",
   "execution_count": 33,
   "id": "ea6b5bbe-84c2-46f0-aa73-9cf0a2c7ebdb",
   "metadata": {},
   "outputs": [
    {
     "name": "stderr",
     "output_type": "stream",
     "text": [
      "Map: 100%|████████████████████████████████████████████████████████████████████████████████████████████████████████████████████████████| 1430/1430 [04:00<00:00,  5.96 examples/s]\n",
      "Map: 100%|████████████████████████████████████████████████████████████████████████████████████████████████████████████████████████████| 1402/1402 [03:14<00:00,  7.20 examples/s]\n"
     ]
    }
   ],
   "source": [
    "def prepare_features(batch):\n",
    "    # 오디오 특징 추출\n",
    "    audio = batch[\"audio\"]\n",
    "    sentence = batch[\"text\"]\n",
    "    inputs = processor(\n",
    "        audio[\"array\"],\n",
    "        sampling_rate=audio[\"sampling_rate\"],\n",
    "        text=sentence,\n",
    "        return_tensors=\"pt\"\n",
    "    )\n",
    "    batch[\"input_features\"] = inputs.input_features[0]\n",
    "    batch[\"labels\"] = inputs.labels[0]\n",
    "    return batch\n",
    "\n",
    "dataset = dataset.map(prepare_features)\n"
   ]
  },
  {
   "cell_type": "code",
   "execution_count": 34,
   "id": "78ef4cc5-5125-4a5c-9380-4fc55e26a1d1",
   "metadata": {},
   "outputs": [
    {
     "ename": "ImportError",
     "evalue": "cannot import name 'DataCollatorSpeechSeq2SeqWithPadding' from 'transformers' (/usr/local/lib/python3.8/dist-packages/transformers/__init__.py)",
     "output_type": "error",
     "traceback": [
      "\u001b[0;31m---------------------------------------------------------------------------\u001b[0m",
      "\u001b[0;31mImportError\u001b[0m                               Traceback (most recent call last)",
      "Cell \u001b[0;32mIn[34], line 1\u001b[0m\n\u001b[0;32m----> 1\u001b[0m \u001b[38;5;28;01mfrom\u001b[39;00m\u001b[38;5;250m \u001b[39m\u001b[38;5;21;01mtransformers\u001b[39;00m\u001b[38;5;250m \u001b[39m\u001b[38;5;28;01mimport\u001b[39;00m DataCollatorSpeechSeq2SeqWithPadding\n\u001b[1;32m      2\u001b[0m \u001b[38;5;28;01mfrom\u001b[39;00m\u001b[38;5;250m \u001b[39m\u001b[38;5;21;01mevaluate\u001b[39;00m\u001b[38;5;250m \u001b[39m\u001b[38;5;28;01mimport\u001b[39;00m load\n\u001b[1;32m      4\u001b[0m data_collator \u001b[38;5;241m=\u001b[39m DataCollatorSpeechSeq2SeqWithPadding(processor\u001b[38;5;241m=\u001b[39mprocessor)\n",
      "\u001b[0;31mImportError\u001b[0m: cannot import name 'DataCollatorSpeechSeq2SeqWithPadding' from 'transformers' (/usr/local/lib/python3.8/dist-packages/transformers/__init__.py)"
     ]
    }
   ],
   "source": [
    "from transformers import DataCollatorSpeechSeq2SeqWithPadding\n",
    "from evaluate import load\n",
    "\n",
    "data_collator = DataCollatorSpeechSeq2SeqWithPadding(processor=processor)\n",
    "\n",
    "wer_metric = load(\"wer\")\n",
    "cer_metric = load(\"cer\")\n",
    "\n",
    "def compute_metrics(pred):\n",
    "    pred_ids = pred.predictions\n",
    "    label_ids = pred.label_ids\n",
    "    pred_str = processor.batch_decode(pred_ids, skip_special_tokens=True)\n",
    "    label_str = processor.batch_decode(label_ids, skip_special_tokens=True)\n",
    "    wer = wer_metric.compute(predictions=pred_str, references=label_str)\n",
    "    cer = cer_metric.compute(predictions=pred_str, references=label_str)\n",
    "    return {\"wer\": wer, \"cer\": cer}\n",
    "\n"
   ]
  },
  {
   "cell_type": "code",
   "execution_count": null,
   "id": "c14a0e02-9c6f-4392-8c4c-c483e98f4ec7",
   "metadata": {},
   "outputs": [],
   "source": [
    "from evaluate import load\n",
    "\n",
    "wer_metric = load(\"wer\")\n",
    "cer_metric = load(\"cer\")\n",
    "\n",
    "def compute_metrics(pred):\n",
    "    pred_ids = pred.predictions\n",
    "    label_ids = pred.label_ids\n",
    "\n",
    "    pred_str = processor.batch_decode(pred_ids, skip_special_tokens=True)\n",
    "    label_str = processor.batch_decode(label_ids, skip_special_tokens=True)\n",
    "\n",
    "    # 외국인 발화 특화 정규화\n",
    "    pred_str = [s.replace(\"+\", \" \").strip() for s in pred_str]\n",
    "    label_str = [s.replace(\"+\", \" \").strip() for s in label_str]\n",
    "\n",
    "    wer = wer_metric.compute(predictions=pred_str, references=label_str)\n",
    "    cer = cer_metric.compute(predictions=pred_str, references=label_str)\n",
    "    \n",
    "    return {\"wer\": wer, \"cer\": cer}\n"
   ]
  },
  {
   "cell_type": "code",
   "execution_count": 23,
   "id": "34c95f06-f328-4005-9a56-e0e9d05bf0e5",
   "metadata": {},
   "outputs": [
    {
     "ename": "SyntaxError",
     "evalue": "invalid syntax (1724963975.py, line 1)",
     "output_type": "error",
     "traceback": [
      "\u001b[0;36m  Cell \u001b[0;32mIn[23], line 1\u001b[0;36m\u001b[0m\n\u001b[0;31m    accelerate launch --multi_gpu --num_processes=4 train_whisper.py \\\u001b[0m\n\u001b[0m               ^\u001b[0m\n\u001b[0;31mSyntaxError\u001b[0m\u001b[0;31m:\u001b[0m invalid syntax\n"
     ]
    }
   ],
   "source": []
  },
  {
   "cell_type": "code",
   "execution_count": null,
   "id": "714e002b-d301-479d-947d-c2f61e1f28b9",
   "metadata": {},
   "outputs": [],
   "source": [
    "trainer.save_model(\"./whisper-finetuned-ktf\")"
   ]
  },
  {
   "cell_type": "code",
   "execution_count": null,
   "id": "dd17bbda-9e19-4c78-ad77-6592a4039a5d",
   "metadata": {},
   "outputs": [],
   "source": [
    "import torch\n",
    "\n",
    "# Load your fine-tuned model\n",
    "model = WhisperForConditionalGeneration.from_pretrained(\"./whisper-finetuned-ktf\")\n",
    "processor = WhisperProcessor.from_pretrained(model_name)\n",
    "\n",
    "# Load an audio file\n",
    "audio_input = processor.feature_extractor(\"path/to/audio.wav\", return_tensors=\"pt\").input_features\n",
    "\n",
    "# Generate transcription\n",
    "with torch.no_grad():\n",
    "    predicted_ids = model.generate(audio_input)\n",
    "    transcription = processor.batch_decode(predicted_ids, skip_special_tokens=True)[0]\n",
    "print(transcription)"
   ]
  },
  {
   "cell_type": "code",
   "execution_count": null,
   "id": "b28d0764-9692-4a31-a49f-9ea231e421d3",
   "metadata": {},
   "outputs": [],
   "source": []
  }
 ],
 "metadata": {
  "kernelspec": {
   "display_name": "Python 3 (ipykernel)",
   "language": "python",
   "name": "python3"
  },
  "language_info": {
   "codemirror_mode": {
    "name": "ipython",
    "version": 3
   },
   "file_extension": ".py",
   "mimetype": "text/x-python",
   "name": "python",
   "nbconvert_exporter": "python",
   "pygments_lexer": "ipython3",
   "version": "3.8.10"
  }
 },
 "nbformat": 4,
 "nbformat_minor": 5
}
